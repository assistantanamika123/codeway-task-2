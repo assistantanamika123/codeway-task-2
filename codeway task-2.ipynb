{
 "cells": [
  {
   "cell_type": "code",
   "execution_count": null,
   "id": "cb312db8",
   "metadata": {},
   "outputs": [
    {
     "name": "stdout",
     "output_type": "stream",
     "text": [
      "Enter the first number: 5\n",
      "Enter the second number: 4\n",
      "Enter the operation (+, -, *, /): +\n",
      "5.0 + 4.0 = 9.0\n",
      "Do you want to perform another calculation? (y/n): y\n",
      "Enter the first number: 6\n",
      "Enter the second number: 8\n",
      "Enter the operation (+, -, *, /): *\n",
      "6.0 * 8.0 = 48.0\n"
     ]
    }
   ],
   "source": [
    "def calculate(num1, num2, operator):\n",
    "  \"\"\"\n",
    "  Performs the specified arithmetic operation on two numbers.\n",
    "\n",
    "  Args:\n",
    "    num1: The first number.\n",
    "    num2: The second number.\n",
    "    operator: The arithmetic operation (+, -, *, /).\n",
    "  \"\"\"\n",
    "  if operator == \"+\":\n",
    "    return num1 + num2\n",
    "  elif operator == \"-\":\n",
    "    return num1 - num2\n",
    "  elif operator == \"*\":\n",
    "    return num1 * num2\n",
    "  elif operator == \"/\":\n",
    "    if num2 == 0:\n",
    "      raise ZeroDivisionError(\"Cannot divide by zero\")\n",
    "    else:\n",
    "      return num1 / num2\n",
    "  else:\n",
    "    raise ValueError(\"Invalid operator\")\n",
    "\n",
    "while True:\n",
    "  try:\n",
    "    num1 = float(input(\"Enter the first number: \"))\n",
    "    num2 = float(input(\"Enter the second number: \"))\n",
    "    operator = input(\"Enter the operation (+, -, *, /): \")\n",
    "\n",
    "    result = calculate(num1, num2, operator)\n",
    "    print(f\"{num1} {operator} {num2} = {result}\")\n",
    "\n",
    "    if input(\"Do you want to perform another calculation? (y/n): \").lower() != \"y\":\n",
    "      break\n",
    "\n",
    "  except ValueError:\n",
    "    print(\"Invalid input. Please try again.\")\n",
    "  except ZeroDivisionError as e:\n",
    "    print(e)\n",
    "\n",
    "print(\"Calculator closing...\")"
   ]
  },
  {
   "cell_type": "code",
   "execution_count": null,
   "id": "71c1442c",
   "metadata": {},
   "outputs": [],
   "source": []
  },
  {
   "cell_type": "code",
   "execution_count": null,
   "id": "d1513ca3",
   "metadata": {},
   "outputs": [],
   "source": []
  }
 ],
 "metadata": {
  "kernelspec": {
   "display_name": "Python 3 (ipykernel)",
   "language": "python",
   "name": "python3"
  },
  "language_info": {
   "codemirror_mode": {
    "name": "ipython",
    "version": 3
   },
   "file_extension": ".py",
   "mimetype": "text/x-python",
   "name": "python",
   "nbconvert_exporter": "python",
   "pygments_lexer": "ipython3",
   "version": "3.11.5"
  }
 },
 "nbformat": 4,
 "nbformat_minor": 5
}
